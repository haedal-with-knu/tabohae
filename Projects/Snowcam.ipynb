{
 "cells": [
  {
   "cell_type": "markdown",
   "metadata": {},
   "source": [
    "# Coding Yahac project - 1\n",
    "## Face Detector\n",
    "![image](https://i.ytimg.com/vi/tpWVyJqehG4/hqdefault.jpg?sqp=-oaymwEZCPYBEIoBSFXyq4qpAwsIARUAAIhCGAFwAQ==&rs=AOn4CLBvy6Os5D8npNP0A9XW_RCybrlJ-Q)  \n",
    "\n",
    "[빵형의 개발도상국 - 얼굴인식 스노우 카메라 쉽게 따라만들기 / YOUTUBE](https://www.youtube.com/watch?v=tpWVyJqehG4)  \n",
    "[소스코드 / GITHUB](https://github.com/kairess/face_detector)  \n",
    "[무료 동영상 다운로드 / PEXELS](https://videos.pexels.com/search/face)"
   ]
  },
  {
   "cell_type": "markdown",
   "metadata": {},
   "source": [
    "## Import Modules"
   ]
  },
  {
   "cell_type": "code",
   "execution_count": 1,
   "metadata": {},
   "outputs": [],
   "source": [
    "import cv2\n",
    "import dlib\n",
    "import sys\n",
    "import numpy as np"
   ]
  },
  {
   "cell_type": "markdown",
   "metadata": {},
   "source": [
    "필요한 모듈들을 import 합니다.\n",
    "* OpenCV 모듈 : 영상처리용 모듈  \n",
    "  **conda**  `conda install -c menpo opencv3`  \n",
    "  **pip** `pip install opencv-python` or `pip install opencv-contrib-python`  \n",
    "\n",
    "* Dlib 모듈 : 이미지 처리용 모듈(Cmake모듈이 있어야합니다)  \n",
    "  **conda** `conda intall -c menpo dlib`  \n",
    "  **pip** `pip install dlib`    \n",
    "  커맨드 설치안될때 : [dlib 깃허브 페이지](https://github.com/davisking/dlib) -> git clone 후 setup.py 파일 실행  \n",
    "  (아무리 시도해도 안될때는)\n",
    "  1. [여기서](https://pypi.org/simple/dlib/) .whl 파일을 받습니다.\n",
    "  2. `conda install python=3.6` 커맨드를 입력한다.\n",
    "  3. .whl 파일이 있는 경로로 가서 `pip install ~.whl` 커맨드를 입력한다.  \n",
    "    \n",
    "  \n",
    "* Sys 모듈 : 커맨드 접근용 모듈  \n",
    "  자동으로 설치되니 import만 하면됩니다.\n",
    "    \n",
    "* Numpy 모듈 : Array 응용 모듈  \n",
    "  **conda** : `conda install -c conda-forge numpy`  \n",
    "  **pip** : `pip install numpy`"
   ]
  },
  {
   "cell_type": "markdown",
   "metadata": {},
   "source": [
    "## Hyperparameter"
   ]
  },
  {
   "cell_type": "code",
   "execution_count": 2,
   "metadata": {},
   "outputs": [],
   "source": [
    "scaler = 0.8"
   ]
  },
  {
   "cell_type": "markdown",
   "metadata": {},
   "source": [
    "OpenCV 창의 크기를 조절해줍시다  \n",
    "0.8배로 할거에요"
   ]
  },
  {
   "cell_type": "markdown",
   "metadata": {},
   "source": [
    "## Get Data and Model"
   ]
  },
  {
   "cell_type": "code",
   "execution_count": 3,
   "metadata": {},
   "outputs": [],
   "source": [
    "detector = dlib.get_frontal_face_detector()\n",
    "predictor = dlib.shape_predictor('dlib-models/shape_predictor_68_face_landmarks.dat')\n",
    "cap = cv2.VideoCapture('face_detector/samples/Irene3.mp4')\n",
    "overlay = cv2.imread('face_detector/samples/ryan_transparent.png', cv2.IMREAD_UNCHANGED)"
   ]
  },
  {
   "cell_type": "markdown",
   "metadata": {},
   "source": [
    "데이터와 모델을 받아서 변수에 초기화시켜줍시다  \n",
    "얼굴인식을 위해서 dlib모듈에서 얼굴인식 detector을 가져올거구요,  \n",
    "얼굴 형태를 찾기위해 dlib모듈에서 prediction 모델을 가져올거에요  \n",
    "\n",
    "실제 사용할 원본 비디오파일과 얼굴에 씌울 라이언 마스크파일도 받아와야겠죠?"
   ]
  },
  {
   "cell_type": "markdown",
   "metadata": {},
   "source": [
    "## Overlay method"
   ]
  },
  {
   "cell_type": "code",
   "execution_count": 4,
   "metadata": {},
   "outputs": [],
   "source": [
    "def overlay_transparent(background_img, img_to_overlay_t, x, y, overlay_size=None):\n",
    "    try :\n",
    "        bg_img = background_img.copy()\n",
    "        # convert 3 channels to 4 channels\n",
    "        if bg_img.shape[2] == 3:\n",
    "            bg_img = cv2.cvtColor(bg_img, cv2.COLOR_BGR2BGRA)\n",
    "\n",
    "        if overlay_size is not None:\n",
    "            img_to_overlay_t = cv2.resize(img_to_overlay_t.copy(), overlay_size)\n",
    "\n",
    "        b, g, r, a = cv2.split(img_to_overlay_t)\n",
    "\n",
    "        mask = cv2.medianBlur(a, 5)\n",
    "\n",
    "        h, w, _ = img_to_overlay_t.shape\n",
    "        roi = bg_img[int(y-h/2):int(y+h/2), int(x-w/2):int(x+w/2)]\n",
    "\n",
    "        img1_bg = cv2.bitwise_and(roi.copy(), roi.copy(), mask=cv2.bitwise_not(mask))\n",
    "        img2_fg = cv2.bitwise_and(img_to_overlay_t, img_to_overlay_t, mask=mask)\n",
    "\n",
    "        bg_img[int(y-h/2):int(y+h/2), int(x-w/2):int(x+w/2)] = cv2.add(img1_bg, img2_fg)\n",
    "\n",
    "        # convert 4 channels to 4 channels\n",
    "        bg_img = cv2.cvtColor(bg_img, cv2.COLOR_BGRA2BGR)\n",
    "        return bg_img\n",
    "    except Exception : return background_img"
   ]
  },
  {
   "cell_type": "markdown",
   "metadata": {},
   "source": [
    "라이언 마스크를 씌우는 메소드입니다.  \n",
    "어려운 코드라 빵형님도 가져오셨다고 하시네요\n",
    "\n",
    "얼굴위에 마스크를 씌웠을때 마스크가 화면을 넘어서면 에러가 뜨더라구요  \n",
    "그래서 제가 임의로 Try Exception을 넣었습니다."
   ]
  },
  {
   "cell_type": "markdown",
   "metadata": {},
   "source": [
    "## While play"
   ]
  },
  {
   "cell_type": "markdown",
   "metadata": {},
   "source": [
    "여기가 좀 복잡한데... while 문으로 묶여있어서 설명하기가 좀 그렇네요\n",
    "\n",
    "1. detector로 찾은 얼굴들(faces)을 list로 저장합니다.  \n",
    "2. faces가 공백이라면 아무것도 출력하지 않습니다.  \n",
    "3. 만약에 face가 있다면\n",
    "  * 얼굴 형태(Face landmarks)를 찾은뒤 거기에 맞게 점을 찍어주고\n",
    "  * 얼굴의 영역(roi)를 잡은다음 좌표를 생성합니다.\n",
    "  * 얼굴 중앙에 라이언 마스크를 입힌다음에 얼굴크기에 맞춰서 조절해줍니다.\n",
    "4. cv.imshow() 함수로 결과물을 출력합니다"
   ]
  },
  {
   "cell_type": "code",
   "execution_count": null,
   "metadata": {},
   "outputs": [],
   "source": [
    "face_roi = []\n",
    "face_sizes = []\n",
    "\n",
    "while True:\n",
    "        # read frame buffer from video\n",
    "    ret, img = cap.read()\n",
    "    if not ret:\n",
    "        break\n",
    "\n",
    "    # resize frame\n",
    "    img = cv2.resize(img, (int(img.shape[1] * scaler), int(img.shape[0] * scaler)))\n",
    "    ori = img.copy()\n",
    "\n",
    "    # find faces\n",
    "    if len(face_roi) == 0:\n",
    "        faces = detector(img, 1)\n",
    "    else:\n",
    "        roi_img = img[face_roi[0]:face_roi[1], face_roi[2]:face_roi[3]]\n",
    "        # cv2.imshow('roi', roi_img)\n",
    "        faces = detector(roi_img)\n",
    "\n",
    "    # no faces\n",
    "    if len(faces) == 0:\n",
    "        print('no faces!')\n",
    "\n",
    "    # find facial landmarks\n",
    "    for face in faces:\n",
    "        if len(face_roi) == 0:\n",
    "            dlib_shape = predictor(img, face)\n",
    "            shape_2d = np.array([[p.x, p.y] for p in dlib_shape.parts()])\n",
    "        else:\n",
    "            dlib_shape = predictor(roi_img, face)\n",
    "            shape_2d = np.array([[p.x + face_roi[2], p.y + face_roi[0]] for p in dlib_shape.parts()])\n",
    "\n",
    "    for s in shape_2d:\n",
    "        cv2.circle(img, center=tuple(s), radius=1, color=(255, 255, 255), thickness=2, lineType=cv2.LINE_AA)\n",
    "\n",
    "        # compute face center\n",
    "        center_x, center_y = np.mean(shape_2d, axis=0).astype(np.int)\n",
    "\n",
    "        # compute face boundaries\n",
    "        min_coords = np.min(shape_2d, axis=0)\n",
    "        max_coords = np.max(shape_2d, axis=0)\n",
    "        \n",
    "        # draw min, max coords\n",
    "        cv2.circle(img, center=tuple(min_coords), radius=1, color=(255, 0, 0), thickness=2, lineType=cv2.LINE_AA)\n",
    "        cv2.circle(img, center=tuple(max_coords), radius=1, color=(255, 0, 0), thickness=2, lineType=cv2.LINE_AA)\n",
    "\n",
    "        # compute face size\n",
    "        face_size = max(max_coords - min_coords)\n",
    "        face_sizes.append(face_size)\n",
    "        if len(face_sizes) > 10:\n",
    "            del face_sizes[0]\n",
    "        mean_face_size = int(np.mean(face_sizes) * 1.8)\n",
    "\n",
    "        # compute face roi\n",
    "        face_roi = np.array([int(min_coords[1] - face_size / 2), int(max_coords[1] + face_size / 2), int(min_coords[0] - face_size / 2), int(max_coords[0] + face_size / 2)])\n",
    "        face_roi = np.clip(face_roi, 0, 10000)\n",
    "        \n",
    "        # draw overlay on face\n",
    "        result = overlay_transparent(ori, overlay, center_x + 8, center_y - 25, overlay_size=(mean_face_size, mean_face_size))\n",
    "\n",
    "    # visualize\n",
    "    cv2.imshow('original', ori)\n",
    "    cv2.imshow('facial landmarks', img)\n",
    "    cv2.imshow('result', result)\n",
    "    if cv2.waitKey(1 ) == ord('q'):\n",
    "        sys.exit(1)"
   ]
  },
  {
   "cell_type": "markdown",
   "metadata": {},
   "source": [
    "## Output"
   ]
  },
  {
   "cell_type": "markdown",
   "metadata": {},
   "source": [
    "라이언 마스크가 화면 밖으로 나올때는 적용이 안되다가  \n",
    "화면 안에 들어서는 순간 잘 작동하는걸 볼 수 있다.  \n",
    "\n",
    "![image](output.gif)"
   ]
  }
 ],
 "metadata": {
  "kernelspec": {
   "display_name": "Python 3",
   "language": "python",
   "name": "python3"
  },
  "language_info": {
   "codemirror_mode": {
    "name": "ipython",
    "version": 3
   },
   "file_extension": ".py",
   "mimetype": "text/x-python",
   "name": "python",
   "nbconvert_exporter": "python",
   "pygments_lexer": "ipython3",
   "version": "3.6.9"
  }
 },
 "nbformat": 4,
 "nbformat_minor": 4
}
