{
 "cells": [
  {
   "cell_type": "markdown",
   "metadata": {},
   "source": [
    "# 빵형과 함께하는 진화알고리즘으로 그림그리기\n",
    "\n",
    "![image](https://i.ytimg.com/vi/K19IA240mU4/hqdefault.jpg?sqp=-oaymwEZCPYBEIoBSFXyq4qpAwsIARUAAIhCGAFwAQ==&rs=AOn4CLBTsCoPY2TuQ0feLAn9EgFDX9h17A)\n",
    "\n",
    "[본문 유튜브 링크](https://www.youtube.com/watch?v=K19IA240mU4)  \n",
    "[본문 깃허브 링크](https://github.com/kairess/genetic_image)"
   ]
  },
  {
   "cell_type": "code",
   "execution_count": 9,
   "metadata": {},
   "outputs": [],
   "source": [
    "import cv2, random, os, sys\n",
    "import numpy as np\n",
    "from copy import deepcopy\n",
    "from skimage.measure import compare_mse\n",
    "import multiprocessing as mp\n",
    "import matplotlib.pyplot as plt\n",
    "import seaborn as sns\n",
    "import pandas as pd"
   ]
  },
  {
   "cell_type": "markdown",
   "metadata": {},
   "source": [
    "필요한 모듈들을 import 합니다."
   ]
  },
  {
   "cell_type": "code",
   "execution_count": 10,
   "metadata": {},
   "outputs": [],
   "source": [
    "filepath = 'spongebob.jpg'\n",
    "filename, ext = os.path.splitext(os.path.basename(filepath))"
   ]
  },
  {
   "cell_type": "markdown",
   "metadata": {},
   "source": [
    "입력받은 이미지를 파일이름과 경로로 나누어 저장합니다."
   ]
  },
  {
   "cell_type": "code",
   "execution_count": 11,
   "metadata": {},
   "outputs": [],
   "source": [
    "img = cv2.imread(filepath)\n",
    "height, width, channels = img.shape"
   ]
  },
  {
   "cell_type": "markdown",
   "metadata": {},
   "source": [
    "경로에 저장된 이미지를 img 변수에 초기화시켜주고 세로, 가로, 채널(RGB)로 나누어줍니다."
   ]
  },
  {
   "cell_type": "code",
   "execution_count": 12,
   "metadata": {},
   "outputs": [],
   "source": [
    "# hyperparameters\n",
    "n_initial_genes = 50\n",
    "n_population = 50\n",
    "prob_mutation = 0.01\n",
    "prob_add = 0.3\n",
    "prob_remove = 0.2\n",
    "\n",
    "min_radius, max_radius = 5, 15\n",
    "save_every_n_iter = 100"
   ]
  },
  {
   "cell_type": "markdown",
   "metadata": {},
   "source": [
    "Hyperparameter(하이퍼 파라미터; 실행 전 미리 정해주는 파라미터 초기값들)\n",
    "* 1세대 유전자 갯수 : 50\n",
    "* 이후 세대들의 유전자 갯수 : 50\n",
    "* 변이율 : 0.01(1%)\n",
    "* 추가될 확률 : 0.3(30%)\n",
    "* 제거될 확률 : 0.2(20%)"
   ]
  },
  {
   "cell_type": "code",
   "execution_count": 13,
   "metadata": {},
   "outputs": [
    {
     "data": {
      "text/plain": [
       "<matplotlib.axes._subplots.AxesSubplot at 0x2db5d233e48>"
      ]
     },
     "execution_count": 13,
     "metadata": {},
     "output_type": "execute_result"
    },
    {
     "data": {
      "image/png": "[encoded data removed]",
      "text/plain": [
       "<Figure size 432x288 with 1 Axes>"
      ]
     },
     "metadata": {
      "needs_background": "light"
     },
     "output_type": "display_data"
    }
   ],
   "source": [
    "# Gene\n",
    "class Gene():\n",
    "  def __init__(self):\n",
    "    self.center = np.array([random.randint(0, width), random.randint(0, height)])\n",
    "    self.radius = random.randint(min_radius, max_radius)\n",
    "    self.color = np.array([random.randint(0, 255), random.randint(0, 255), random.randint(0, 255)])\n",
    "\n",
    "  def mutate(self):\n",
    "    mutation_size = max(1, int(round(random.gauss(15, 4)))) / 100\n",
    "\n",
    "    r = random.uniform(0, 1)\n",
    "    if r < 0.33: # radius\n",
    "      self.radius = np.clip(random.randint(\n",
    "        int(self.radius * (1 - mutation_size)),\n",
    "        int(self.radius * (1 + mutation_size))\n",
    "      ), 1, 100)\n",
    "    elif r < 0.66: # center\n",
    "      self.center = np.array([\n",
    "        np.clip(random.randint(\n",
    "          int(self.center[0] * (1 - mutation_size)),\n",
    "          int(self.center[0] * (1 + mutation_size))),\n",
    "        0, width),\n",
    "        np.clip(random.randint(\n",
    "          int(self.center[1] * (1 - mutation_size)),\n",
    "          int(self.center[1] * (1 + mutation_size))),\n",
    "        0, height)\n",
    "      ])\n",
    "    else: # color\n",
    "      self.color = np.array([\n",
    "        np.clip(random.randint(\n",
    "          int(self.color[0] * (1 - mutation_size)),\n",
    "          int(self.color[0] * (1 + mutation_size))),\n",
    "        0, 255),\n",
    "        np.clip(random.randint(\n",
    "          int(self.color[1] * (1 - mutation_size)),\n",
    "          int(self.color[1] * (1 + mutation_size))),\n",
    "        0, 255),\n",
    "        np.clip(random.randint(\n",
    "          int(self.color[2] * (1 - mutation_size)),\n",
    "          int(self.color[2] * (1 + mutation_size))),\n",
    "        0, 255)\n",
    "      ])\n",
    "\n",
    "s3 = pd.Series(np.random.normal(15,4,size=200))\n",
    "s3.hist()"
   ]
  },
  {
   "cell_type": "markdown",
   "metadata": {},
   "source": [
    "유전자 클래스 ; 유전자의 파라미터(성질)을 정의합니다.  \n",
    "* def __init__(self) : 유전자의 파라미터(인스턴스)를 선언하고 초기값을 넣어줍니다.  \n",
    "    * center : 유전자 중앙의 좌표값, ndarray(`0~width` 랜덤값, `0~height` 랜덤값) 타입  \n",
    "    * radius : 유전자의 반지름 길이, int(`min~max` 랜덤값) 타입  \n",
    "    * color : 유전자의 색깔, ndarray(`0~255` Blue 랜덤값, `0~255` Green 랜덤값, `0~255` Red 랜덤값)  \n",
    "        \n",
    "        \n",
    "* def mutate(self) : 유전자의 변이율을 설정하고 변이율 만큼 변이시켜줍니다.  \n",
    "  * 변이율 : 평균 15, 표준편차 4인 정규분포 랜덤을 생성, 0.01(1%) ~ 1.00(100%) 사이의 값을 가지도록 합니다.\n",
    "  * 1/3 확률 : 반지름을 변이율 만큼 변이\n",
    "  * 1/3 확률 : 위치를 변이율 만큼 변이\n",
    "  * 1/3 확률 : 색깔을 변이율 만큼 변이"
   ]
  },
  {
   "cell_type": "code",
   "execution_count": 14,
   "metadata": {},
   "outputs": [],
   "source": [
    "# compute fitness\n",
    "def compute_fitness(genome):\n",
    "  out = np.ones((height, width, channels), dtype=np.uint8) * 255\n",
    "    \n",
    "  for gene in genome:\n",
    "    cv2.circle(out, center=tuple(gene.center), radius=gene.radius, color=(int(gene.color[0]), int(gene.color[1]), int(gene.color[2])), thickness=-1)\n",
    "\n",
    "  # mean squared error\n",
    "  fitness = 255. / compare_mse(img, out)\n",
    "\n",
    "  return fitness, out"
   ]
  },
  {
   "cell_type": "markdown",
   "metadata": {},
   "source": [
    "메인 클래스 ; 원본이미지와 생성된 이미지를 비교합니다\n",
    "* 이미지와 같은 세로,가로,채널 크기를 가진 ndarray 이미지를 생성합니다\n",
    "* 입력으로 받은 유전자에 따라 생성한 이미지에 Circle을 그립니다.\n",
    "* 원본 이미지와 얼마나 비슷한지 fitness를 측정합니다"
   ]
  },
  {
   "cell_type": "code",
   "execution_count": 15,
   "metadata": {},
   "outputs": [],
   "source": [
    "# compute population\n",
    "def compute_population(g):\n",
    "  genome = deepcopy(g)\n",
    "  # mutation\n",
    "  if len(genome) < 200:\n",
    "    for gene in genome:\n",
    "      if random.uniform(0, 1) < prob_mutation:\n",
    "        gene.mutate()\n",
    "  else:\n",
    "    for gene in random.sample(genome, k=int(len(genome) * prob_mutation)):\n",
    "      gene.mutate()\n",
    "\n",
    "  # add gene\n",
    "  if random.uniform(0, 1) < prob_add:\n",
    "    genome.append(Gene())\n",
    "\n",
    "  # remove gene\n",
    "  if len(genome) > 0 and random.uniform(0, 1) < prob_remove:\n",
    "    genome.remove(random.choice(genome))\n",
    "\n",
    "  # compute fitness\n",
    "  new_fitness, new_out = compute_fitness(genome)\n",
    "\n",
    "  return new_fitness, genome, new_out"
   ]
  },
  {
   "cell_type": "markdown",
   "metadata": {},
   "source": [
    "메인 클래스 ; 유전자의 인구를 조절합니다\n",
    "* 유전자들의 리스트를 입력으로 받습니다  \n",
    "* 유전자가 200개보다 적으면 변이될 확률에 따라서 하나씩 변이시킵니다  \n",
    "* 유전자가 200개보다 많다면 변이될 확률에 따라서 k개만큼 뽑아서 한번에 변이시킵니다  \n",
    "  \n",
    "    \n",
    "* 유전자가 추가될 확률에 따라 유전자를 추가해줍니다.\n",
    "* 유전자가 제거될 확률에 따라 유전자를 제거해줍니다.\n",
    "* 새롭게 fitness를 측정해줍니다"
   ]
  },
  {
   "cell_type": "code",
   "execution_count": 16,
   "metadata": {},
   "outputs": [],
   "source": [
    "# main\n",
    "if __name__ == '__main__':\n",
    "  os.makedirs('result', exist_ok=True)\n",
    "\n",
    "  p = mp.Pool(mp.cpu_count() - 1)"
   ]
  },
  {
   "cell_type": "markdown",
   "metadata": {},
   "source": [
    "가장 우월 유전자를 미리 지정해둔 유전자 갯수만큼 만들어주고 유전자 인구를 조절해줍니다."
   ]
  },
  {
   "cell_type": "code",
   "execution_count": 19,
   "metadata": {},
   "outputs": [
    {
     "data": {
      "text/plain": [
       "('일치율 = 1.7598951319890594%', <matplotlib.image.AxesImage at 0x2db5d39a9b0>)"
      ]
     },
     "execution_count": 19,
     "metadata": {},
     "output_type": "execute_result"
    },
    {
     "data": {
      "image/png": "[encoded data removed]",
      "text/plain": [
       "<Figure size 432x288 with 1 Axes>"
      ]
     },
     "metadata": {
      "needs_background": "light"
     },
     "output_type": "display_data"
    }
   ],
   "source": [
    "# 1st gene\n",
    "best_genome = [Gene() for _ in range(n_initial_genes)]\n",
    "\n",
    "best_fitness, best_out = compute_fitness(best_genome)\n",
    "\n",
    "n_gen = 0\n",
    "\n",
    "\"일치율 = \" + str(best_fitness*100) + \"%\", plt.imshow(best_out)"
   ]
  },
  {
   "cell_type": "markdown",
   "metadata": {},
   "source": [
    "1세대 유전자 갯수만큼 유전자를 생성해주고, 우월 유전자 리스트에 넣어줍니다.  \n",
    "우월 유전자 fitness를 측정하고 그 중에 가장 우월한 유전자를 저장합니다. 처음에는 엄청 낮은 값이 나오겠죠?"
   ]
  },
  {
   "cell_type": "code",
   "execution_count": null,
   "metadata": {},
   "outputs": [],
   "source": [
    "  while True:\n",
    "    try:\n",
    "      results = p.map(compute_population, [deepcopy(best_genome)] * n_population)\n",
    "    except KeyboardInterrupt:\n",
    "      p.close()\n",
    "      break"
   ]
  },
  {
   "cell_type": "markdown",
   "metadata": {},
   "source": [
    "가장 우월 유전자를 미리 지정해둔 유전자 갯수만큼 만들어주고 유전자 인구를 조절해줍니다."
   ]
  },
  {
   "cell_type": "code",
   "execution_count": null,
   "metadata": {},
   "outputs": [],
   "source": [
    "    results.append([best_fitness, best_genome, best_out])\n",
    "\n",
    "    new_fitnesses, new_genomes, new_outs = zip(*results)\n",
    "\n",
    "    best_result = sorted(zip(new_fitnesses, new_genomes, new_outs), key=lambda x: x[0], reverse=True)\n",
    "\n",
    "    best_fitness, best_genome, best_out = best_result[0]"
   ]
  },
  {
   "cell_type": "markdown",
   "metadata": {},
   "source": [
    "`result` 리스트에 세대당 fitness, 우월 유전자들 그리고 가장 우월한 유전자를 세대마다 추가해줍니다.  \n",
    "멀티 프로세싱을 위해 우리가 만든 새로운 이미지에 대한 fitness, 유전자들, 그리고 그린 이미지를 뽑아줍니다.  \n",
    "그리고 이 세개를 묶고(`zip`), fitness(`x[0]`)를 기준으로 내림차순(`reverse`) 시킨 리스트를 `best_result`에 저장시켜줍니다  \n",
    "그럼 `best_result[0]`에는 가장 우월한 유전자들만(내림차순이니까) 남아있겠죠?"
   ]
  },
  {
   "cell_type": "code",
   "execution_count": null,
   "metadata": {},
   "outputs": [],
   "source": [
    "    # end of generation\n",
    "    print('Generation #%s, Fitness %s' % (n_gen, best_fitness))\n",
    "    n_gen += 1\n",
    "\n",
    "    # visualize\n",
    "    if n_gen % save_every_n_iter == 0:\n",
    "      cv2.imwrite('result/%s_%s.jpg' % (filename, n_gen), best_out)\n",
    "\n",
    "    cv2.imshow('best out', best_out)\n",
    "    if cv2.waitKey(1) == ord('q'):\n",
    "     p.close()\n",
    "     break"
   ]
  },
  {
   "cell_type": "markdown",
   "metadata": {},
   "source": [
    "거의다 왔습니다!  \n",
    "방금 뽑아낸 가장 우월한 유전자들에 대한 세대와 fitness를 프린트하고 세대를 진행시켜줍니다.  \n",
    "n번째 순서마다 만들어낸 이미지를 저장해주고(너무 많이 저장하면 병목현상 발생)  \n",
    "cv2.imshow를 이용해 n번째마다 저장해준 이미지를 실시간으로 보여줍니다.  "
   ]
  },
  {
   "cell_type": "code",
   "execution_count": null,
   "metadata": {},
   "outputs": [],
   "source": [
    "  cv2.imshow('best out', best_out)\n",
    "  cv2.waitKey(0)"
   ]
  },
  {
   "cell_type": "markdown",
   "metadata": {},
   "source": [
    "![image](https://github.com/kairess/genetic_image/raw/master/result.gif)  \n",
    "\n",
    "실제로 실행시켜보면 real time으로 이미지가 변하는 것(처럼)을 볼 수 있습니다.  \n",
    "(주피터노트북에서는 힘들어서 빵형님 이미지를 들고왔습니다.)"
   ]
  }
 ],
 "metadata": {
  "kernelspec": {
   "display_name": "Python 3",
   "language": "python",
   "name": "python3"
  }
 },
 "nbformat": 4,
 "nbformat_minor": 2
}
